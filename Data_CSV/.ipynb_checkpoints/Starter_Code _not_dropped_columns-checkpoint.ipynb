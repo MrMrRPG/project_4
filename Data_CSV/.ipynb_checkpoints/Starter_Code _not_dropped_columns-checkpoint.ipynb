{
 "cells": [
  {
   "cell_type": "code",
   "execution_count": 1,
   "id": "0b424d0a",
   "metadata": {},
   "outputs": [],
   "source": [
    "import numpy as np\n",
    "import pandas as pd\n",
    "import matplotlib.pyplot as plt\n",
    "from pathlib import Path\n",
    "from sklearn.model_selection import train_test_split\n",
    "from sklearn.preprocessing import StandardScaler, MinMaxScaler, LabelEncoder\n",
    "from sklearn.ensemble import RandomForestClassifier"
   ]
  },
  {
   "cell_type": "code",
   "execution_count": 2,
   "id": "2a20bf70",
   "metadata": {},
   "outputs": [],
   "source": [
    "from sklearn.metrics import confusion_matrix"
   ]
  },
  {
   "cell_type": "code",
   "execution_count": 3,
   "id": "0f943542",
   "metadata": {},
   "outputs": [],
   "source": [
    "# Creating our test dataframe\n",
    "test_df = pd.read_csv(Path('games.csv'))\n",
    "test_df = test_df[test_df.winner != \"draw\"]"
   ]
  },
  {
   "cell_type": "code",
   "execution_count": 4,
   "id": "97016eaa",
   "metadata": {},
   "outputs": [],
   "source": [
    "# Creating our train dataframe\n",
    "chess_df = pd.read_csv(Path('games_edited.csv'))\n"
   ]
  },
  {
   "cell_type": "code",
   "execution_count": 5,
   "id": "672b2ced",
   "metadata": {},
   "outputs": [],
   "source": [
    "# Since we had 3 potential outcomes in our target data, we need to remove all rows containing \"draw\" so that we have only 2 possible outcomes\n",
    "chess_df = chess_df[chess_df.winner != \"draw\"]"
   ]
  },
  {
   "cell_type": "code",
   "execution_count": 6,
   "id": "4bfd59e5",
   "metadata": {},
   "outputs": [],
   "source": [
    "# Dropping the column that I want to predict on the training data\n",
    "X_train = chess_df.drop('id',axis = 1)"
   ]
  },
  {
   "cell_type": "code",
   "execution_count": 7,
   "id": "c7c5a84b",
   "metadata": {},
   "outputs": [],
   "source": [
    "# Creating training data X and Y\n",
    "X_dummies = pd.get_dummies(X_train)\n",
    "y_train_label = LabelEncoder().fit_transform(chess_df['winner'])"
   ]
  },
  {
   "cell_type": "code",
   "execution_count": 8,
   "id": "b34b8069",
   "metadata": {},
   "outputs": [],
   "source": [
    "# Creating testing data X and Y\n",
    "X_test = test_df.drop('winner',axis = 1)\n",
    "X_dummies_test = pd.get_dummies(X_test).reindex(columns=X_dummies.columns,fill_value=0)\n",
    "y_test_label = LabelEncoder().fit_transform(chess_df['winner'])"
   ]
  },
  {
   "cell_type": "code",
   "execution_count": 9,
   "id": "a00bcd7c",
   "metadata": {},
   "outputs": [
    {
     "data": {
      "text/plain": [
       "LogisticRegression()"
      ]
     },
     "execution_count": 9,
     "metadata": {},
     "output_type": "execute_result"
    }
   ],
   "source": [
    "# Performing Logistic Regression on unscaled data\n",
    "from sklearn.linear_model import LogisticRegression\n",
    "classifier = LogisticRegression()\n",
    "classifier.fit(X_dummies, y_train_label)"
   ]
  },
  {
   "cell_type": "code",
   "execution_count": 10,
   "id": "e3ae11c3",
   "metadata": {},
   "outputs": [
    {
     "name": "stdout",
     "output_type": "stream",
     "text": [
      "Training Data Score: 0.5014653548252042\n",
      "Testing Data Score: 0.5013083525225036\n"
     ]
    }
   ],
   "source": [
    "# Scale the data\n",
    "scaler = StandardScaler().fit(X_dummies)\n",
    "X_train_scaled = scaler.transform(X_dummies)\n",
    "X_test_scaled = scaler.transform(X_dummies_test)\n",
    "print(f\"Training Data Score: {classifier.score(X_train_scaled, y_train_label)}\")\n",
    "print(f\"Testing Data Score: {classifier.score(X_test_scaled, y_test_label)}\")\n",
    "# Guess Logistic Regression isn't the best method "
   ]
  },
  {
   "cell_type": "code",
   "execution_count": 11,
   "id": "36a0c2ac",
   "metadata": {},
   "outputs": [
    {
     "name": "stdout",
     "output_type": "stream",
     "text": [
      "Training Score: 1.0\n",
      "Testing Score: 0.8147372828134812\n"
     ]
    }
   ],
   "source": [
    "# Train a Random Forest Classifier model and print the model score\n",
    "# Train a Random Forest Classifier model and print the model score\n",
    "# For this example, I use 500 as my default n of estimators\n",
    "clf = RandomForestClassifier(random_state=1, n_estimators=500).fit(X_dummies, y_train_label)\n",
    "print(f'Training Score: {clf.score(X_dummies, y_train_label)}')\n",
    "print(f'Testing Score: {clf.score(X_dummies_test, y_test_label)}')"
   ]
  },
  {
   "cell_type": "code",
   "execution_count": 12,
   "id": "0535d2dc",
   "metadata": {},
   "outputs": [
    {
     "data": {
      "text/html": [
       "<div>\n",
       "<style scoped>\n",
       "    .dataframe tbody tr th:only-of-type {\n",
       "        vertical-align: middle;\n",
       "    }\n",
       "\n",
       "    .dataframe tbody tr th {\n",
       "        vertical-align: top;\n",
       "    }\n",
       "\n",
       "    .dataframe thead th {\n",
       "        text-align: right;\n",
       "    }\n",
       "</style>\n",
       "<table border=\"1\" class=\"dataframe\">\n",
       "  <thead>\n",
       "    <tr style=\"text-align: right;\">\n",
       "      <th></th>\n",
       "      <th>Prediction</th>\n",
       "      <th>Actual</th>\n",
       "    </tr>\n",
       "  </thead>\n",
       "  <tbody>\n",
       "    <tr>\n",
       "      <th>0</th>\n",
       "      <td>1</td>\n",
       "      <td>1</td>\n",
       "    </tr>\n",
       "    <tr>\n",
       "      <th>1</th>\n",
       "      <td>1</td>\n",
       "      <td>0</td>\n",
       "    </tr>\n",
       "    <tr>\n",
       "      <th>2</th>\n",
       "      <td>1</td>\n",
       "      <td>1</td>\n",
       "    </tr>\n",
       "    <tr>\n",
       "      <th>3</th>\n",
       "      <td>1</td>\n",
       "      <td>1</td>\n",
       "    </tr>\n",
       "    <tr>\n",
       "      <th>4</th>\n",
       "      <td>1</td>\n",
       "      <td>1</td>\n",
       "    </tr>\n",
       "    <tr>\n",
       "      <th>...</th>\n",
       "      <td>...</td>\n",
       "      <td>...</td>\n",
       "    </tr>\n",
       "    <tr>\n",
       "      <th>19103</th>\n",
       "      <td>1</td>\n",
       "      <td>1</td>\n",
       "    </tr>\n",
       "    <tr>\n",
       "      <th>19104</th>\n",
       "      <td>1</td>\n",
       "      <td>0</td>\n",
       "    </tr>\n",
       "    <tr>\n",
       "      <th>19105</th>\n",
       "      <td>1</td>\n",
       "      <td>1</td>\n",
       "    </tr>\n",
       "    <tr>\n",
       "      <th>19106</th>\n",
       "      <td>1</td>\n",
       "      <td>1</td>\n",
       "    </tr>\n",
       "    <tr>\n",
       "      <th>19107</th>\n",
       "      <td>1</td>\n",
       "      <td>0</td>\n",
       "    </tr>\n",
       "  </tbody>\n",
       "</table>\n",
       "<p>19108 rows × 2 columns</p>\n",
       "</div>"
      ],
      "text/plain": [
       "       Prediction  Actual\n",
       "0               1       1\n",
       "1               1       0\n",
       "2               1       1\n",
       "3               1       1\n",
       "4               1       1\n",
       "...           ...     ...\n",
       "19103           1       1\n",
       "19104           1       0\n",
       "19105           1       1\n",
       "19106           1       1\n",
       "19107           1       0\n",
       "\n",
       "[19108 rows x 2 columns]"
      ]
     },
     "execution_count": 12,
     "metadata": {},
     "output_type": "execute_result"
    }
   ],
   "source": [
    "predictions = classifier.predict(X_dummies_test)\n",
    "pd.DataFrame({\"Prediction\": predictions, \"Actual\": y_test_label})"
   ]
  },
  {
   "cell_type": "code",
   "execution_count": 13,
   "id": "30ce7d35",
   "metadata": {},
   "outputs": [
    {
     "data": {
      "text/plain": [
       "array([[8681,  426],\n",
       "       [3114, 6887]], dtype=int64)"
      ]
     },
     "execution_count": 13,
     "metadata": {},
     "output_type": "execute_result"
    }
   ],
   "source": [
    "from sklearn.metrics import confusion_matrix, classification_report\n",
    "\n",
    "y_true = y_test_label\n",
    "y_pred = clf.predict(X_dummies_test)\n",
    "confusion_matrix(y_true, y_pred)"
   ]
  },
  {
   "cell_type": "code",
   "execution_count": 14,
   "id": "e9023378",
   "metadata": {},
   "outputs": [
    {
     "name": "stdout",
     "output_type": "stream",
     "text": [
      "              precision    recall  f1-score   support\n",
      "\n",
      "           0       0.74      0.95      0.83      9107\n",
      "           1       0.94      0.69      0.80     10001\n",
      "\n",
      "    accuracy                           0.81     19108\n",
      "   macro avg       0.84      0.82      0.81     19108\n",
      "weighted avg       0.84      0.81      0.81     19108\n",
      "\n"
     ]
    }
   ],
   "source": [
    "tn, fp, fn, tp = confusion_matrix(y_true, y_pred).ravel()\n",
    "# Utilizing our understanding of components in a confusion matrix, apply the formula for accuracy\n",
    "accuracy = (tp + tn) / (tp + fp + tn + fn)\n",
    "print(classification_report(y_true, y_pred))"
   ]
  },
  {
   "cell_type": "code",
   "execution_count": 15,
   "id": "1220c475",
   "metadata": {},
   "outputs": [
    {
     "name": "stdout",
     "output_type": "stream",
     "text": [
      "Accuracy: 0.8147372828134812\n"
     ]
    }
   ],
   "source": [
    "print(f\"Accuracy: {accuracy}\")"
   ]
  },
  {
   "cell_type": "code",
   "execution_count": null,
   "id": "bf2e7b95",
   "metadata": {},
   "outputs": [],
   "source": []
  }
 ],
 "metadata": {
  "kernelspec": {
   "display_name": "Python 3",
   "language": "python",
   "name": "python3"
  },
  "language_info": {
   "codemirror_mode": {
    "name": "ipython",
    "version": 3
   },
   "file_extension": ".py",
   "mimetype": "text/x-python",
   "name": "python",
   "nbconvert_exporter": "python",
   "pygments_lexer": "ipython3",
   "version": "3.8.8"
  }
 },
 "nbformat": 4,
 "nbformat_minor": 5
}
