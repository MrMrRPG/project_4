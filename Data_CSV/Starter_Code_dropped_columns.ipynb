{
 "cells": [
  {
   "cell_type": "code",
   "execution_count": 19,
   "id": "b306fbe5",
   "metadata": {},
   "outputs": [],
   "source": [
    "import numpy as np\n",
    "import pandas as pd\n",
    "import matplotlib.pyplot as plt\n",
    "from pathlib import Path\n",
    "from sklearn.model_selection import train_test_split\n",
    "from sklearn.preprocessing import StandardScaler, MinMaxScaler, LabelEncoder\n",
    "from sklearn.ensemble import RandomForestClassifier"
   ]
  },
  {
   "cell_type": "code",
   "execution_count": 20,
   "id": "a255a96e",
   "metadata": {},
   "outputs": [],
   "source": [
    "from sklearn.metrics import confusion_matrix"
   ]
  },
  {
   "cell_type": "code",
   "execution_count": 21,
   "id": "23f73741",
   "metadata": {},
   "outputs": [
    {
     "data": {
      "text/html": [
       "<div>\n",
       "<style scoped>\n",
       "    .dataframe tbody tr th:only-of-type {\n",
       "        vertical-align: middle;\n",
       "    }\n",
       "\n",
       "    .dataframe tbody tr th {\n",
       "        vertical-align: top;\n",
       "    }\n",
       "\n",
       "    .dataframe thead th {\n",
       "        text-align: right;\n",
       "    }\n",
       "</style>\n",
       "<table border=\"1\" class=\"dataframe\">\n",
       "  <thead>\n",
       "    <tr style=\"text-align: right;\">\n",
       "      <th></th>\n",
       "      <th>id</th>\n",
       "      <th>rated</th>\n",
       "      <th>created_at</th>\n",
       "      <th>last_move_at</th>\n",
       "      <th>victory_status</th>\n",
       "      <th>winner</th>\n",
       "      <th>white_id</th>\n",
       "      <th>black_id</th>\n",
       "      <th>opening_eco</th>\n",
       "      <th>Move1A</th>\n",
       "      <th>Move1B</th>\n",
       "      <th>Move2A</th>\n",
       "      <th>Move2B</th>\n",
       "      <th>Move3A</th>\n",
       "      <th>Move3B</th>\n",
       "    </tr>\n",
       "  </thead>\n",
       "  <tbody>\n",
       "    <tr>\n",
       "      <th>0</th>\n",
       "      <td>TZJHLljE</td>\n",
       "      <td>False</td>\n",
       "      <td>1.500000e+12</td>\n",
       "      <td>1.500000e+12</td>\n",
       "      <td>outoftime</td>\n",
       "      <td>white</td>\n",
       "      <td>bourgris</td>\n",
       "      <td>a-00</td>\n",
       "      <td>D10</td>\n",
       "      <td>d4</td>\n",
       "      <td>d5</td>\n",
       "      <td>c4</td>\n",
       "      <td>c6</td>\n",
       "      <td>cxd5</td>\n",
       "      <td>e6</td>\n",
       "    </tr>\n",
       "    <tr>\n",
       "      <th>1</th>\n",
       "      <td>l1NXvwaE</td>\n",
       "      <td>True</td>\n",
       "      <td>1.500000e+12</td>\n",
       "      <td>1.500000e+12</td>\n",
       "      <td>resign</td>\n",
       "      <td>black</td>\n",
       "      <td>a-00</td>\n",
       "      <td>skinnerua</td>\n",
       "      <td>B00</td>\n",
       "      <td>d4</td>\n",
       "      <td>Nc6</td>\n",
       "      <td>e4</td>\n",
       "      <td>e5</td>\n",
       "      <td>f4</td>\n",
       "      <td>f6</td>\n",
       "    </tr>\n",
       "    <tr>\n",
       "      <th>2</th>\n",
       "      <td>mIICvQHh</td>\n",
       "      <td>True</td>\n",
       "      <td>1.500000e+12</td>\n",
       "      <td>1.500000e+12</td>\n",
       "      <td>mate</td>\n",
       "      <td>white</td>\n",
       "      <td>ischia</td>\n",
       "      <td>a-00</td>\n",
       "      <td>C20</td>\n",
       "      <td>e4</td>\n",
       "      <td>e5</td>\n",
       "      <td>d3</td>\n",
       "      <td>d6</td>\n",
       "      <td>Be3</td>\n",
       "      <td>c6</td>\n",
       "    </tr>\n",
       "    <tr>\n",
       "      <th>3</th>\n",
       "      <td>kWKvrqYL</td>\n",
       "      <td>True</td>\n",
       "      <td>1.500000e+12</td>\n",
       "      <td>1.500000e+12</td>\n",
       "      <td>mate</td>\n",
       "      <td>white</td>\n",
       "      <td>daniamurashov</td>\n",
       "      <td>adivanov2009</td>\n",
       "      <td>D02</td>\n",
       "      <td>d4</td>\n",
       "      <td>d5</td>\n",
       "      <td>Nf3</td>\n",
       "      <td>Bf5</td>\n",
       "      <td>Nc3</td>\n",
       "      <td>Nf6</td>\n",
       "    </tr>\n",
       "    <tr>\n",
       "      <th>4</th>\n",
       "      <td>9tXo1AUZ</td>\n",
       "      <td>True</td>\n",
       "      <td>1.500000e+12</td>\n",
       "      <td>1.500000e+12</td>\n",
       "      <td>mate</td>\n",
       "      <td>white</td>\n",
       "      <td>nik221107</td>\n",
       "      <td>adivanov2009</td>\n",
       "      <td>C41</td>\n",
       "      <td>e4</td>\n",
       "      <td>e5</td>\n",
       "      <td>Nf3</td>\n",
       "      <td>d6</td>\n",
       "      <td>d4</td>\n",
       "      <td>Nc6</td>\n",
       "    </tr>\n",
       "  </tbody>\n",
       "</table>\n",
       "</div>"
      ],
      "text/plain": [
       "         id  rated    created_at  last_move_at victory_status winner  \\\n",
       "0  TZJHLljE  False  1.500000e+12  1.500000e+12      outoftime  white   \n",
       "1  l1NXvwaE   True  1.500000e+12  1.500000e+12         resign  black   \n",
       "2  mIICvQHh   True  1.500000e+12  1.500000e+12           mate  white   \n",
       "3  kWKvrqYL   True  1.500000e+12  1.500000e+12           mate  white   \n",
       "4  9tXo1AUZ   True  1.500000e+12  1.500000e+12           mate  white   \n",
       "\n",
       "        white_id      black_id opening_eco Move1A Move1B Move2A Move2B Move3A  \\\n",
       "0       bourgris          a-00         D10     d4     d5     c4     c6   cxd5   \n",
       "1           a-00     skinnerua         B00     d4    Nc6     e4     e5     f4   \n",
       "2         ischia          a-00         C20     e4     e5     d3     d6    Be3   \n",
       "3  daniamurashov  adivanov2009         D02     d4     d5    Nf3    Bf5    Nc3   \n",
       "4      nik221107  adivanov2009         C41     e4     e5    Nf3     d6     d4   \n",
       "\n",
       "  Move3B  \n",
       "0     e6  \n",
       "1     f6  \n",
       "2     c6  \n",
       "3    Nf6  \n",
       "4    Nc6  "
      ]
     },
     "execution_count": 21,
     "metadata": {},
     "output_type": "execute_result"
    }
   ],
   "source": [
    "# Turning csv's into DataFrames\n",
    "chess_df = pd.read_csv(Path('games_edited.csv'))\n",
    "chess_df = chess_df.drop('increment_code', axis = 1)\n",
    "# chess_df = chess_df.drop('id', axis = 1)\n",
    "# chess_df = chess_df.drop('opening_eco', axis = 1)\n",
    "chess_df = chess_df.drop('black_rating', axis = 1)\n",
    "chess_df = chess_df.drop('white_rating', axis = 1)\n",
    "chess_df = chess_df.drop('opening_name', axis = 1)\n",
    "chess_df = chess_df.drop('opening_ply', axis = 1)\n",
    "chess_df = chess_df.drop('turns', axis = 1)\n",
    "chess_df.head()"
   ]
  },
  {
   "cell_type": "code",
   "execution_count": 25,
   "id": "677b4473",
   "metadata": {},
   "outputs": [],
   "source": [
    "# Since we had 3 potential outcomes in our target data, we need to remove all rows containing \"draw\" so that we have only 2 possible outcomes\n",
    "chess_df = chess_df[chess_df.winner != \"draw\"]"
   ]
  },
  {
   "cell_type": "code",
   "execution_count": 26,
   "id": "459336d5",
   "metadata": {},
   "outputs": [],
   "source": [
    "# Dropping the column that I want to predict on the training data\n",
    "X_train = chess_df.drop('id',axis = 1)"
   ]
  },
  {
   "cell_type": "code",
   "execution_count": 27,
   "id": "0dfb2e55",
   "metadata": {},
   "outputs": [],
   "source": [
    "# Creating training data X and Y\n",
    "X_dummies = pd.get_dummies(X_train)\n",
    "y_train_label = LabelEncoder().fit_transform(chess_df['winner'])"
   ]
  },
  {
   "cell_type": "code",
   "execution_count": 28,
   "id": "7c3ef61c",
   "metadata": {},
   "outputs": [],
   "source": [
    "# Creating testing data X and Y\n",
    "X_test = chess_df.drop('winner',axis = 1)\n",
    "X_dummies_test = pd.get_dummies(X_test).reindex(columns=X_dummies.columns,fill_value=0)\n",
    "y_test_label = LabelEncoder().fit_transform(chess_df['winner'])"
   ]
  },
  {
   "cell_type": "code",
   "execution_count": 29,
   "id": "ee7c92e9",
   "metadata": {},
   "outputs": [
    {
     "data": {
      "text/plain": [
       "LogisticRegression()"
      ]
     },
     "execution_count": 29,
     "metadata": {},
     "output_type": "execute_result"
    }
   ],
   "source": [
    "# Performing Logistic Regression on unscaled data\n",
    "from sklearn.linear_model import LogisticRegression\n",
    "classifier = LogisticRegression()\n",
    "classifier.fit(X_dummies, y_train_label)"
   ]
  },
  {
   "cell_type": "code",
   "execution_count": 30,
   "id": "b01d3e6d",
   "metadata": {},
   "outputs": [
    {
     "name": "stdout",
     "output_type": "stream",
     "text": [
      "Training Data Score: 0.5014653548252042\n",
      "Testing Data Score: 0.5014653548252042\n"
     ]
    }
   ],
   "source": [
    "# Scale the data\n",
    "scaler = StandardScaler().fit(X_dummies)\n",
    "X_train_scaled = scaler.transform(X_dummies)\n",
    "X_test_scaled = scaler.transform(X_dummies_test)\n",
    "print(f\"Training Data Score: {classifier.score(X_train_scaled, y_train_label)}\")\n",
    "print(f\"Testing Data Score: {classifier.score(X_test_scaled, y_test_label)}\")\n",
    "# Guess Logistic Regression isn't the best method "
   ]
  },
  {
   "cell_type": "code",
   "execution_count": 31,
   "id": "e245b58c",
   "metadata": {},
   "outputs": [
    {
     "name": "stdout",
     "output_type": "stream",
     "text": [
      "Training Score: 1.0\n",
      "Testing Score: 0.9760833158886331\n"
     ]
    }
   ],
   "source": [
    "# Train a Random Forest Classifier model and print the model score\n",
    "# Train a Random Forest Classifier model and print the model score\n",
    "# For this example, I use 500 as my default n of estimators\n",
    "clf = RandomForestClassifier(random_state=1, n_estimators=500).fit(X_dummies, y_train_label)\n",
    "print(f'Training Score: {clf.score(X_dummies, y_train_label)}')\n",
    "print(f'Testing Score: {clf.score(X_dummies_test, y_test_label)}')"
   ]
  },
  {
   "cell_type": "code",
   "execution_count": 32,
   "id": "b476a2ba",
   "metadata": {},
   "outputs": [
    {
     "data": {
      "text/html": [
       "<div>\n",
       "<style scoped>\n",
       "    .dataframe tbody tr th:only-of-type {\n",
       "        vertical-align: middle;\n",
       "    }\n",
       "\n",
       "    .dataframe tbody tr th {\n",
       "        vertical-align: top;\n",
       "    }\n",
       "\n",
       "    .dataframe thead th {\n",
       "        text-align: right;\n",
       "    }\n",
       "</style>\n",
       "<table border=\"1\" class=\"dataframe\">\n",
       "  <thead>\n",
       "    <tr style=\"text-align: right;\">\n",
       "      <th></th>\n",
       "      <th>Prediction</th>\n",
       "      <th>Actual</th>\n",
       "    </tr>\n",
       "  </thead>\n",
       "  <tbody>\n",
       "    <tr>\n",
       "      <th>0</th>\n",
       "      <td>1</td>\n",
       "      <td>1</td>\n",
       "    </tr>\n",
       "    <tr>\n",
       "      <th>1</th>\n",
       "      <td>1</td>\n",
       "      <td>0</td>\n",
       "    </tr>\n",
       "    <tr>\n",
       "      <th>2</th>\n",
       "      <td>1</td>\n",
       "      <td>1</td>\n",
       "    </tr>\n",
       "    <tr>\n",
       "      <th>3</th>\n",
       "      <td>1</td>\n",
       "      <td>1</td>\n",
       "    </tr>\n",
       "    <tr>\n",
       "      <th>4</th>\n",
       "      <td>1</td>\n",
       "      <td>1</td>\n",
       "    </tr>\n",
       "    <tr>\n",
       "      <th>...</th>\n",
       "      <td>...</td>\n",
       "      <td>...</td>\n",
       "    </tr>\n",
       "    <tr>\n",
       "      <th>19103</th>\n",
       "      <td>1</td>\n",
       "      <td>1</td>\n",
       "    </tr>\n",
       "    <tr>\n",
       "      <th>19104</th>\n",
       "      <td>1</td>\n",
       "      <td>0</td>\n",
       "    </tr>\n",
       "    <tr>\n",
       "      <th>19105</th>\n",
       "      <td>1</td>\n",
       "      <td>1</td>\n",
       "    </tr>\n",
       "    <tr>\n",
       "      <th>19106</th>\n",
       "      <td>1</td>\n",
       "      <td>1</td>\n",
       "    </tr>\n",
       "    <tr>\n",
       "      <th>19107</th>\n",
       "      <td>1</td>\n",
       "      <td>0</td>\n",
       "    </tr>\n",
       "  </tbody>\n",
       "</table>\n",
       "<p>19108 rows × 2 columns</p>\n",
       "</div>"
      ],
      "text/plain": [
       "       Prediction  Actual\n",
       "0               1       1\n",
       "1               1       0\n",
       "2               1       1\n",
       "3               1       1\n",
       "4               1       1\n",
       "...           ...     ...\n",
       "19103           1       1\n",
       "19104           1       0\n",
       "19105           1       1\n",
       "19106           1       1\n",
       "19107           1       0\n",
       "\n",
       "[19108 rows x 2 columns]"
      ]
     },
     "execution_count": 32,
     "metadata": {},
     "output_type": "execute_result"
    }
   ],
   "source": [
    "predictions = classifier.predict(X_dummies_test)\n",
    "pd.DataFrame({\"Prediction\": predictions, \"Actual\": y_test_label})"
   ]
  },
  {
   "cell_type": "code",
   "execution_count": 33,
   "id": "e462b210",
   "metadata": {},
   "outputs": [
    {
     "data": {
      "text/plain": [
       "array([[8992,  115],\n",
       "       [ 342, 9659]], dtype=int64)"
      ]
     },
     "execution_count": 33,
     "metadata": {},
     "output_type": "execute_result"
    }
   ],
   "source": [
    "from sklearn.metrics import confusion_matrix, classification_report\n",
    "\n",
    "y_true = y_test_label\n",
    "y_pred = clf.predict(X_dummies_test)\n",
    "confusion_matrix(y_true, y_pred)"
   ]
  },
  {
   "cell_type": "code",
   "execution_count": 34,
   "id": "859ff277",
   "metadata": {},
   "outputs": [
    {
     "name": "stdout",
     "output_type": "stream",
     "text": [
      "              precision    recall  f1-score   support\n",
      "\n",
      "           0       0.96      0.99      0.98      9107\n",
      "           1       0.99      0.97      0.98     10001\n",
      "\n",
      "    accuracy                           0.98     19108\n",
      "   macro avg       0.98      0.98      0.98     19108\n",
      "weighted avg       0.98      0.98      0.98     19108\n",
      "\n"
     ]
    }
   ],
   "source": [
    "tn, fp, fn, tp = confusion_matrix(y_true, y_pred).ravel()\n",
    "# Utilizing our understanding of components in a confusion matrix, apply the formula for accuracy\n",
    "accuracy = (tp + tn) / (tp + fp + tn + fn)\n",
    "print(classification_report(y_true, y_pred))"
   ]
  },
  {
   "cell_type": "code",
   "execution_count": null,
   "id": "03a42032",
   "metadata": {},
   "outputs": [],
   "source": []
  }
 ],
 "metadata": {
  "kernelspec": {
   "display_name": "Python 3",
   "language": "python",
   "name": "python3"
  },
  "language_info": {
   "codemirror_mode": {
    "name": "ipython",
    "version": 3
   },
   "file_extension": ".py",
   "mimetype": "text/x-python",
   "name": "python",
   "nbconvert_exporter": "python",
   "pygments_lexer": "ipython3",
   "version": "3.8.8"
  }
 },
 "nbformat": 4,
 "nbformat_minor": 5
}
