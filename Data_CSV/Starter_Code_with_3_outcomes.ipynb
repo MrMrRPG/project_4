{
 "cells": [
  {
   "cell_type": "code",
   "execution_count": 1,
   "id": "c5aa6c52",
   "metadata": {},
   "outputs": [],
   "source": [
    "import numpy as np\n",
    "import pandas as pd\n",
    "import matplotlib.pyplot as plt\n",
    "from pathlib import Path\n",
    "from sklearn.model_selection import train_test_split\n",
    "from sklearn.preprocessing import StandardScaler, MinMaxScaler, LabelEncoder\n",
    "from sklearn.ensemble import RandomForestClassifier"
   ]
  },
  {
   "cell_type": "code",
   "execution_count": 2,
   "id": "c9e22d31",
   "metadata": {},
   "outputs": [],
   "source": [
    "from sklearn.metrics import confusion_matrix"
   ]
  },
  {
   "cell_type": "code",
   "execution_count": 3,
   "id": "e2db8645",
   "metadata": {},
   "outputs": [],
   "source": [
    "# Creating our test dataframe\n",
    "test_df = pd.read_csv(Path('games.csv'))"
   ]
  },
  {
   "cell_type": "code",
   "execution_count": 4,
   "id": "16f8fff6",
   "metadata": {},
   "outputs": [
    {
     "data": {
      "text/html": [
       "<div>\n",
       "<style scoped>\n",
       "    .dataframe tbody tr th:only-of-type {\n",
       "        vertical-align: middle;\n",
       "    }\n",
       "\n",
       "    .dataframe tbody tr th {\n",
       "        vertical-align: top;\n",
       "    }\n",
       "\n",
       "    .dataframe thead th {\n",
       "        text-align: right;\n",
       "    }\n",
       "</style>\n",
       "<table border=\"1\" class=\"dataframe\">\n",
       "  <thead>\n",
       "    <tr style=\"text-align: right;\">\n",
       "      <th></th>\n",
       "      <th>id</th>\n",
       "      <th>rated</th>\n",
       "      <th>created_at</th>\n",
       "      <th>last_move_at</th>\n",
       "      <th>victory_status</th>\n",
       "      <th>winner</th>\n",
       "      <th>white_id</th>\n",
       "      <th>black_id</th>\n",
       "      <th>opening_eco</th>\n",
       "      <th>Move1A</th>\n",
       "      <th>Move1B</th>\n",
       "      <th>Move2A</th>\n",
       "      <th>Move2B</th>\n",
       "      <th>Move3A</th>\n",
       "      <th>Move3B</th>\n",
       "    </tr>\n",
       "  </thead>\n",
       "  <tbody>\n",
       "    <tr>\n",
       "      <th>0</th>\n",
       "      <td>TZJHLljE</td>\n",
       "      <td>False</td>\n",
       "      <td>1.500000e+12</td>\n",
       "      <td>1.500000e+12</td>\n",
       "      <td>outoftime</td>\n",
       "      <td>white</td>\n",
       "      <td>bourgris</td>\n",
       "      <td>a-00</td>\n",
       "      <td>D10</td>\n",
       "      <td>d4</td>\n",
       "      <td>d5</td>\n",
       "      <td>c4</td>\n",
       "      <td>c6</td>\n",
       "      <td>cxd5</td>\n",
       "      <td>e6</td>\n",
       "    </tr>\n",
       "    <tr>\n",
       "      <th>1</th>\n",
       "      <td>l1NXvwaE</td>\n",
       "      <td>True</td>\n",
       "      <td>1.500000e+12</td>\n",
       "      <td>1.500000e+12</td>\n",
       "      <td>resign</td>\n",
       "      <td>black</td>\n",
       "      <td>a-00</td>\n",
       "      <td>skinnerua</td>\n",
       "      <td>B00</td>\n",
       "      <td>d4</td>\n",
       "      <td>Nc6</td>\n",
       "      <td>e4</td>\n",
       "      <td>e5</td>\n",
       "      <td>f4</td>\n",
       "      <td>f6</td>\n",
       "    </tr>\n",
       "    <tr>\n",
       "      <th>2</th>\n",
       "      <td>mIICvQHh</td>\n",
       "      <td>True</td>\n",
       "      <td>1.500000e+12</td>\n",
       "      <td>1.500000e+12</td>\n",
       "      <td>mate</td>\n",
       "      <td>white</td>\n",
       "      <td>ischia</td>\n",
       "      <td>a-00</td>\n",
       "      <td>C20</td>\n",
       "      <td>e4</td>\n",
       "      <td>e5</td>\n",
       "      <td>d3</td>\n",
       "      <td>d6</td>\n",
       "      <td>Be3</td>\n",
       "      <td>c6</td>\n",
       "    </tr>\n",
       "    <tr>\n",
       "      <th>3</th>\n",
       "      <td>kWKvrqYL</td>\n",
       "      <td>True</td>\n",
       "      <td>1.500000e+12</td>\n",
       "      <td>1.500000e+12</td>\n",
       "      <td>mate</td>\n",
       "      <td>white</td>\n",
       "      <td>daniamurashov</td>\n",
       "      <td>adivanov2009</td>\n",
       "      <td>D02</td>\n",
       "      <td>d4</td>\n",
       "      <td>d5</td>\n",
       "      <td>Nf3</td>\n",
       "      <td>Bf5</td>\n",
       "      <td>Nc3</td>\n",
       "      <td>Nf6</td>\n",
       "    </tr>\n",
       "    <tr>\n",
       "      <th>4</th>\n",
       "      <td>9tXo1AUZ</td>\n",
       "      <td>True</td>\n",
       "      <td>1.500000e+12</td>\n",
       "      <td>1.500000e+12</td>\n",
       "      <td>mate</td>\n",
       "      <td>white</td>\n",
       "      <td>nik221107</td>\n",
       "      <td>adivanov2009</td>\n",
       "      <td>C41</td>\n",
       "      <td>e4</td>\n",
       "      <td>e5</td>\n",
       "      <td>Nf3</td>\n",
       "      <td>d6</td>\n",
       "      <td>d4</td>\n",
       "      <td>Nc6</td>\n",
       "    </tr>\n",
       "  </tbody>\n",
       "</table>\n",
       "</div>"
      ],
      "text/plain": [
       "         id  rated    created_at  last_move_at victory_status winner  \\\n",
       "0  TZJHLljE  False  1.500000e+12  1.500000e+12      outoftime  white   \n",
       "1  l1NXvwaE   True  1.500000e+12  1.500000e+12         resign  black   \n",
       "2  mIICvQHh   True  1.500000e+12  1.500000e+12           mate  white   \n",
       "3  kWKvrqYL   True  1.500000e+12  1.500000e+12           mate  white   \n",
       "4  9tXo1AUZ   True  1.500000e+12  1.500000e+12           mate  white   \n",
       "\n",
       "        white_id      black_id opening_eco Move1A Move1B Move2A Move2B Move3A  \\\n",
       "0       bourgris          a-00         D10     d4     d5     c4     c6   cxd5   \n",
       "1           a-00     skinnerua         B00     d4    Nc6     e4     e5     f4   \n",
       "2         ischia          a-00         C20     e4     e5     d3     d6    Be3   \n",
       "3  daniamurashov  adivanov2009         D02     d4     d5    Nf3    Bf5    Nc3   \n",
       "4      nik221107  adivanov2009         C41     e4     e5    Nf3     d6     d4   \n",
       "\n",
       "  Move3B  \n",
       "0     e6  \n",
       "1     f6  \n",
       "2     c6  \n",
       "3    Nf6  \n",
       "4    Nc6  "
      ]
     },
     "execution_count": 4,
     "metadata": {},
     "output_type": "execute_result"
    }
   ],
   "source": [
    "# Creating our train dataframe\n",
    "chess_df = pd.read_csv(Path('games_edited.csv'))\n",
    "chess_df = chess_df.drop('increment_code', axis = 1)\n",
    "chess_df = chess_df.drop('black_rating', axis = 1)\n",
    "chess_df = chess_df.drop('white_rating', axis = 1)\n",
    "chess_df = chess_df.drop('opening_name', axis = 1)\n",
    "chess_df = chess_df.drop('opening_ply', axis = 1)\n",
    "chess_df = chess_df.drop('turns', axis = 1)\n",
    "chess_df.head()"
   ]
  },
  {
   "cell_type": "code",
   "execution_count": 5,
   "id": "e9a84e50",
   "metadata": {},
   "outputs": [],
   "source": [
    "# Dropping the column that I want to predict on the training data\n",
    "X_train = chess_df.drop('id',axis = 1)"
   ]
  },
  {
   "cell_type": "code",
   "execution_count": 6,
   "id": "2758ed66",
   "metadata": {},
   "outputs": [],
   "source": [
    "# Creating training data X and Y\n",
    "X_dummies = pd.get_dummies(X_train)\n",
    "y_train_label = LabelEncoder().fit_transform(chess_df['winner'])"
   ]
  },
  {
   "cell_type": "code",
   "execution_count": 7,
   "id": "74470313",
   "metadata": {},
   "outputs": [],
   "source": [
    "# Creating testing data X and Y\n",
    "X_test = test_df.drop('winner',axis = 1)\n",
    "X_dummies_test = pd.get_dummies(X_test).reindex(columns=X_dummies.columns,fill_value=0)\n",
    "y_test_label = LabelEncoder().fit_transform(chess_df['winner'])"
   ]
  },
  {
   "cell_type": "code",
   "execution_count": 8,
   "id": "5507508c",
   "metadata": {},
   "outputs": [
    {
     "data": {
      "text/plain": [
       "LogisticRegression()"
      ]
     },
     "execution_count": 8,
     "metadata": {},
     "output_type": "execute_result"
    }
   ],
   "source": [
    "# Performing Logistic Regression on unscaled data\n",
    "from sklearn.linear_model import LogisticRegression\n",
    "classifier = LogisticRegression()\n",
    "classifier.fit(X_dummies, y_train_label)"
   ]
  },
  {
   "cell_type": "code",
   "execution_count": 9,
   "id": "df617d00",
   "metadata": {},
   "outputs": [
    {
     "name": "stdout",
     "output_type": "stream",
     "text": [
      "Training Data Score: 0.3486389470535447\n",
      "Testing Data Score: 0.35297636853125935\n"
     ]
    }
   ],
   "source": [
    "# Scale the data\n",
    "scaler = StandardScaler().fit(X_dummies)\n",
    "X_train_scaled = scaler.transform(X_dummies)\n",
    "X_test_scaled = scaler.transform(X_dummies_test)\n",
    "print(f\"Training Data Score: {classifier.score(X_train_scaled, y_train_label)}\")\n",
    "print(f\"Testing Data Score: {classifier.score(X_test_scaled, y_test_label)}\")\n",
    "# Guess Logistic Regression isn't the best method "
   ]
  },
  {
   "cell_type": "code",
   "execution_count": 10,
   "id": "032915b6",
   "metadata": {},
   "outputs": [
    {
     "name": "stdout",
     "output_type": "stream",
     "text": [
      "Training Score: 1.0\n",
      "Testing Score: 0.727091434838967\n"
     ]
    }
   ],
   "source": [
    "# Train a Random Forest Classifier model and print the model score\n",
    "# Train a Random Forest Classifier model and print the model score\n",
    "# For this example, I use 500 as my default n of estimators\n",
    "clf = RandomForestClassifier(random_state=1, n_estimators=500).fit(X_dummies, y_train_label)\n",
    "print(f'Training Score: {clf.score(X_dummies, y_train_label)}')\n",
    "print(f'Testing Score: {clf.score(X_dummies_test, y_test_label)}')"
   ]
  },
  {
   "cell_type": "code",
   "execution_count": 11,
   "id": "03ce8cd6",
   "metadata": {},
   "outputs": [
    {
     "data": {
      "text/html": [
       "<div>\n",
       "<style scoped>\n",
       "    .dataframe tbody tr th:only-of-type {\n",
       "        vertical-align: middle;\n",
       "    }\n",
       "\n",
       "    .dataframe tbody tr th {\n",
       "        vertical-align: top;\n",
       "    }\n",
       "\n",
       "    .dataframe thead th {\n",
       "        text-align: right;\n",
       "    }\n",
       "</style>\n",
       "<table border=\"1\" class=\"dataframe\">\n",
       "  <thead>\n",
       "    <tr style=\"text-align: right;\">\n",
       "      <th></th>\n",
       "      <th>Prediction</th>\n",
       "      <th>Actual</th>\n",
       "    </tr>\n",
       "  </thead>\n",
       "  <tbody>\n",
       "    <tr>\n",
       "      <th>0</th>\n",
       "      <td>2</td>\n",
       "      <td>2</td>\n",
       "    </tr>\n",
       "    <tr>\n",
       "      <th>1</th>\n",
       "      <td>2</td>\n",
       "      <td>0</td>\n",
       "    </tr>\n",
       "    <tr>\n",
       "      <th>2</th>\n",
       "      <td>2</td>\n",
       "      <td>2</td>\n",
       "    </tr>\n",
       "    <tr>\n",
       "      <th>3</th>\n",
       "      <td>2</td>\n",
       "      <td>2</td>\n",
       "    </tr>\n",
       "    <tr>\n",
       "      <th>4</th>\n",
       "      <td>2</td>\n",
       "      <td>2</td>\n",
       "    </tr>\n",
       "    <tr>\n",
       "      <th>...</th>\n",
       "      <td>...</td>\n",
       "      <td>...</td>\n",
       "    </tr>\n",
       "    <tr>\n",
       "      <th>20053</th>\n",
       "      <td>2</td>\n",
       "      <td>2</td>\n",
       "    </tr>\n",
       "    <tr>\n",
       "      <th>20054</th>\n",
       "      <td>2</td>\n",
       "      <td>0</td>\n",
       "    </tr>\n",
       "    <tr>\n",
       "      <th>20055</th>\n",
       "      <td>2</td>\n",
       "      <td>2</td>\n",
       "    </tr>\n",
       "    <tr>\n",
       "      <th>20056</th>\n",
       "      <td>2</td>\n",
       "      <td>2</td>\n",
       "    </tr>\n",
       "    <tr>\n",
       "      <th>20057</th>\n",
       "      <td>2</td>\n",
       "      <td>0</td>\n",
       "    </tr>\n",
       "  </tbody>\n",
       "</table>\n",
       "<p>20058 rows × 2 columns</p>\n",
       "</div>"
      ],
      "text/plain": [
       "       Prediction  Actual\n",
       "0               2       2\n",
       "1               2       0\n",
       "2               2       2\n",
       "3               2       2\n",
       "4               2       2\n",
       "...           ...     ...\n",
       "20053           2       2\n",
       "20054           2       0\n",
       "20055           2       2\n",
       "20056           2       2\n",
       "20057           2       0\n",
       "\n",
       "[20058 rows x 2 columns]"
      ]
     },
     "execution_count": 11,
     "metadata": {},
     "output_type": "execute_result"
    }
   ],
   "source": [
    "predictions = classifier.predict(X_dummies_test)\n",
    "pd.DataFrame({\"Prediction\": predictions, \"Actual\": y_test_label})"
   ]
  },
  {
   "cell_type": "code",
   "execution_count": 12,
   "id": "759fed07",
   "metadata": {},
   "outputs": [
    {
     "data": {
      "text/plain": [
       "array([[7041,    0, 2066],\n",
       "       [  34,  906,   10],\n",
       "       [3364,    0, 6637]], dtype=int64)"
      ]
     },
     "execution_count": 12,
     "metadata": {},
     "output_type": "execute_result"
    }
   ],
   "source": [
    "from sklearn.metrics import confusion_matrix, classification_report\n",
    "\n",
    "y_true = y_test_label\n",
    "y_pred = clf.predict(X_dummies_test)\n",
    "confusion_matrix(y_true, y_pred)"
   ]
  },
  {
   "cell_type": "code",
   "execution_count": null,
   "id": "0fcd7911",
   "metadata": {},
   "outputs": [],
   "source": []
  }
 ],
 "metadata": {
  "kernelspec": {
   "display_name": "Python 3",
   "language": "python",
   "name": "python3"
  },
  "language_info": {
   "codemirror_mode": {
    "name": "ipython",
    "version": 3
   },
   "file_extension": ".py",
   "mimetype": "text/x-python",
   "name": "python",
   "nbconvert_exporter": "python",
   "pygments_lexer": "ipython3",
   "version": "3.8.8"
  }
 },
 "nbformat": 4,
 "nbformat_minor": 5
}
