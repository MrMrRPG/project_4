{
 "cells": [
  {
   "cell_type": "code",
   "execution_count": 33,
   "id": "e13c1d8b",
   "metadata": {},
   "outputs": [],
   "source": [
    "\n",
    "import numpy as np\n",
    "import pandas as pd\n",
    "import matplotlib.pyplot as plt\n",
    "from pathlib import Path\n",
    "from sklearn.model_selection import train_test_split\n",
    "from sklearn.preprocessing import StandardScaler, MinMaxScaler, LabelEncoder\n",
    "from sklearn.ensemble import RandomForestClassifier"
   ]
  },
  {
   "cell_type": "code",
   "execution_count": 34,
   "id": "9f389763",
   "metadata": {},
   "outputs": [],
   "source": [
    "from sklearn.metrics import confusion_matrix"
   ]
  },
  {
   "cell_type": "code",
   "execution_count": 35,
   "id": "2cf0ea73",
   "metadata": {},
   "outputs": [
    {
     "data": {
      "text/html": [
       "<div>\n",
       "<style scoped>\n",
       "    .dataframe tbody tr th:only-of-type {\n",
       "        vertical-align: middle;\n",
       "    }\n",
       "\n",
       "    .dataframe tbody tr th {\n",
       "        vertical-align: top;\n",
       "    }\n",
       "\n",
       "    .dataframe thead th {\n",
       "        text-align: right;\n",
       "    }\n",
       "</style>\n",
       "<table border=\"1\" class=\"dataframe\">\n",
       "  <thead>\n",
       "    <tr style=\"text-align: right;\">\n",
       "      <th></th>\n",
       "      <th>rated</th>\n",
       "      <th>created_at</th>\n",
       "      <th>last_move_at</th>\n",
       "      <th>victory_status</th>\n",
       "      <th>winner</th>\n",
       "      <th>white_id</th>\n",
       "      <th>black_id</th>\n",
       "      <th>opening_eco</th>\n",
       "      <th>Move1A</th>\n",
       "      <th>Move1B</th>\n",
       "      <th>Move2A</th>\n",
       "      <th>Move2B</th>\n",
       "      <th>Move3A</th>\n",
       "      <th>Move3B</th>\n",
       "    </tr>\n",
       "  </thead>\n",
       "  <tbody>\n",
       "    <tr>\n",
       "      <th>0</th>\n",
       "      <td>False</td>\n",
       "      <td>1.500000e+12</td>\n",
       "      <td>1.500000e+12</td>\n",
       "      <td>outoftime</td>\n",
       "      <td>white</td>\n",
       "      <td>bourgris</td>\n",
       "      <td>a-00</td>\n",
       "      <td>D10</td>\n",
       "      <td>d4</td>\n",
       "      <td>d5</td>\n",
       "      <td>c4</td>\n",
       "      <td>c6</td>\n",
       "      <td>cxd5</td>\n",
       "      <td>e6</td>\n",
       "    </tr>\n",
       "    <tr>\n",
       "      <th>1</th>\n",
       "      <td>True</td>\n",
       "      <td>1.500000e+12</td>\n",
       "      <td>1.500000e+12</td>\n",
       "      <td>resign</td>\n",
       "      <td>black</td>\n",
       "      <td>a-00</td>\n",
       "      <td>skinnerua</td>\n",
       "      <td>B00</td>\n",
       "      <td>d4</td>\n",
       "      <td>Nc6</td>\n",
       "      <td>e4</td>\n",
       "      <td>e5</td>\n",
       "      <td>f4</td>\n",
       "      <td>f6</td>\n",
       "    </tr>\n",
       "    <tr>\n",
       "      <th>2</th>\n",
       "      <td>True</td>\n",
       "      <td>1.500000e+12</td>\n",
       "      <td>1.500000e+12</td>\n",
       "      <td>mate</td>\n",
       "      <td>white</td>\n",
       "      <td>ischia</td>\n",
       "      <td>a-00</td>\n",
       "      <td>C20</td>\n",
       "      <td>e4</td>\n",
       "      <td>e5</td>\n",
       "      <td>d3</td>\n",
       "      <td>d6</td>\n",
       "      <td>Be3</td>\n",
       "      <td>c6</td>\n",
       "    </tr>\n",
       "    <tr>\n",
       "      <th>3</th>\n",
       "      <td>True</td>\n",
       "      <td>1.500000e+12</td>\n",
       "      <td>1.500000e+12</td>\n",
       "      <td>mate</td>\n",
       "      <td>white</td>\n",
       "      <td>daniamurashov</td>\n",
       "      <td>adivanov2009</td>\n",
       "      <td>D02</td>\n",
       "      <td>d4</td>\n",
       "      <td>d5</td>\n",
       "      <td>Nf3</td>\n",
       "      <td>Bf5</td>\n",
       "      <td>Nc3</td>\n",
       "      <td>Nf6</td>\n",
       "    </tr>\n",
       "    <tr>\n",
       "      <th>4</th>\n",
       "      <td>True</td>\n",
       "      <td>1.500000e+12</td>\n",
       "      <td>1.500000e+12</td>\n",
       "      <td>mate</td>\n",
       "      <td>white</td>\n",
       "      <td>nik221107</td>\n",
       "      <td>adivanov2009</td>\n",
       "      <td>C41</td>\n",
       "      <td>e4</td>\n",
       "      <td>e5</td>\n",
       "      <td>Nf3</td>\n",
       "      <td>d6</td>\n",
       "      <td>d4</td>\n",
       "      <td>Nc6</td>\n",
       "    </tr>\n",
       "  </tbody>\n",
       "</table>\n",
       "</div>"
      ],
      "text/plain": [
       "   rated    created_at  last_move_at victory_status winner       white_id  \\\n",
       "0  False  1.500000e+12  1.500000e+12      outoftime  white       bourgris   \n",
       "1   True  1.500000e+12  1.500000e+12         resign  black           a-00   \n",
       "2   True  1.500000e+12  1.500000e+12           mate  white         ischia   \n",
       "3   True  1.500000e+12  1.500000e+12           mate  white  daniamurashov   \n",
       "4   True  1.500000e+12  1.500000e+12           mate  white      nik221107   \n",
       "\n",
       "       black_id opening_eco Move1A Move1B Move2A Move2B Move3A Move3B  \n",
       "0          a-00         D10     d4     d5     c4     c6   cxd5     e6  \n",
       "1     skinnerua         B00     d4    Nc6     e4     e5     f4     f6  \n",
       "2          a-00         C20     e4     e5     d3     d6    Be3     c6  \n",
       "3  adivanov2009         D02     d4     d5    Nf3    Bf5    Nc3    Nf6  \n",
       "4  adivanov2009         C41     e4     e5    Nf3     d6     d4    Nc6  "
      ]
     },
     "execution_count": 35,
     "metadata": {},
     "output_type": "execute_result"
    }
   ],
   "source": [
    "# Turning csv's into DataFrames\n",
    "chess_df = pd.read_csv(Path('games_edited.csv'))\n",
    "chess_df = chess_df.drop('increment_code', axis = 1)\n",
    "chess_df = chess_df.drop('id', axis = 1)\n",
    "# chess_df = chess_df.drop('opening_eco', axis = 1)\n",
    "chess_df = chess_df.drop('black_rating', axis = 1)\n",
    "chess_df = chess_df.drop('white_rating', axis = 1)\n",
    "chess_df = chess_df.drop('opening_name', axis = 1)\n",
    "chess_df = chess_df.drop('opening_ply', axis = 1)\n",
    "chess_df = chess_df.drop('turns', axis = 1)\n",
    "chess_df.head()"
   ]
  },
  {
   "cell_type": "code",
   "execution_count": 36,
   "id": "455e2694",
   "metadata": {},
   "outputs": [],
   "source": [
    "# Dropping the column that I want to predict on the training data\n",
    "X_train = chess_df.drop('winner',axis = 1)"
   ]
  },
  {
   "cell_type": "code",
   "execution_count": 37,
   "id": "301853ff",
   "metadata": {},
   "outputs": [],
   "source": [
    "# Creating training data X and Y\n",
    "X_dummies = pd.get_dummies(X_train)\n",
    "y_train_label = LabelEncoder().fit_transform(chess_df['winner'])"
   ]
  },
  {
   "cell_type": "code",
   "execution_count": 38,
   "id": "376b2e92",
   "metadata": {},
   "outputs": [],
   "source": [
    "# Creating testing data X and Y\n",
    "X_test = chess_df.drop('winner',axis = 1)\n",
    "X_dummies_test = pd.get_dummies(X_test).reindex(columns=X_dummies.columns,fill_value=0)\n",
    "y_test_label = LabelEncoder().fit_transform(chess_df['winner'])"
   ]
  },
  {
   "cell_type": "code",
   "execution_count": 39,
   "id": "3632a674",
   "metadata": {},
   "outputs": [
    {
     "data": {
      "text/plain": [
       "LogisticRegression()"
      ]
     },
     "execution_count": 39,
     "metadata": {},
     "output_type": "execute_result"
    }
   ],
   "source": [
    "# Performing Logistic Regression on unscaled data\n",
    "from sklearn.linear_model import LogisticRegression\n",
    "classifier = LogisticRegression()\n",
    "classifier.fit(X_dummies, y_train_label)"
   ]
  },
  {
   "cell_type": "code",
   "execution_count": 40,
   "id": "5228651d",
   "metadata": {},
   "outputs": [
    {
     "name": "stdout",
     "output_type": "stream",
     "text": [
      "Training Data Score: 0.3486389470535447\n",
      "Testing Data Score: 0.3486389470535447\n"
     ]
    }
   ],
   "source": [
    "# Scale the data\n",
    "scaler = StandardScaler().fit(X_dummies)\n",
    "X_train_scaled = scaler.transform(X_dummies)\n",
    "X_test_scaled = scaler.transform(X_dummies_test)\n",
    "print(f\"Training Data Score: {classifier.score(X_train_scaled, y_train_label)}\")\n",
    "print(f\"Testing Data Score: {classifier.score(X_test_scaled, y_test_label)}\")\n",
    "# Guess Logistic Regression isn't the best method "
   ]
  },
  {
   "cell_type": "markdown",
   "id": "75f9d1b2",
   "metadata": {},
   "source": [
    "Poor results accuracy; logistics analysis is not preferred for this project."
   ]
  },
  {
   "cell_type": "code",
   "execution_count": 41,
   "id": "c330a72b",
   "metadata": {},
   "outputs": [
    {
     "ename": "ValueError",
     "evalue": "too many values to unpack (expected 4)",
     "output_type": "error",
     "traceback": [
      "\u001b[1;31m---------------------------------------------------------------------------\u001b[0m",
      "\u001b[1;31mValueError\u001b[0m                                Traceback (most recent call last)",
      "\u001b[1;32m<ipython-input-41-fcbc7268a73f>\u001b[0m in \u001b[0;36m<module>\u001b[1;34m\u001b[0m\n\u001b[0;32m      4\u001b[0m \u001b[0my_prediction\u001b[0m \u001b[1;33m=\u001b[0m \u001b[0mclassifier\u001b[0m\u001b[1;33m.\u001b[0m\u001b[0mpredict\u001b[0m\u001b[1;33m(\u001b[0m\u001b[0mX_dummies_test\u001b[0m\u001b[1;33m)\u001b[0m\u001b[1;33m\u001b[0m\u001b[1;33m\u001b[0m\u001b[0m\n\u001b[0;32m      5\u001b[0m \u001b[0mconfusion_matrix\u001b[0m\u001b[1;33m(\u001b[0m\u001b[0my_true\u001b[0m\u001b[1;33m,\u001b[0m \u001b[0my_prediction\u001b[0m\u001b[1;33m)\u001b[0m\u001b[1;33m\u001b[0m\u001b[1;33m\u001b[0m\u001b[0m\n\u001b[1;32m----> 6\u001b[1;33m \u001b[0mtn\u001b[0m\u001b[1;33m,\u001b[0m \u001b[0mfp\u001b[0m\u001b[1;33m,\u001b[0m \u001b[0mfn\u001b[0m\u001b[1;33m,\u001b[0m \u001b[0mtp\u001b[0m \u001b[1;33m=\u001b[0m \u001b[0mconfusion_matrix\u001b[0m\u001b[1;33m(\u001b[0m\u001b[0my_true\u001b[0m\u001b[1;33m,\u001b[0m \u001b[0my_prediction\u001b[0m\u001b[1;33m)\u001b[0m\u001b[1;33m.\u001b[0m\u001b[0mravel\u001b[0m\u001b[1;33m(\u001b[0m\u001b[1;33m)\u001b[0m\u001b[1;33m\u001b[0m\u001b[1;33m\u001b[0m\u001b[0m\n\u001b[0m\u001b[0;32m      7\u001b[0m \u001b[1;31m# Utilizing our understanding of components in a confusion matrix, apply the formula for accuracy\u001b[0m\u001b[1;33m\u001b[0m\u001b[1;33m\u001b[0m\u001b[1;33m\u001b[0m\u001b[0m\n\u001b[0;32m      8\u001b[0m \u001b[0maccuracy\u001b[0m \u001b[1;33m=\u001b[0m \u001b[1;33m(\u001b[0m\u001b[0mtp\u001b[0m \u001b[1;33m+\u001b[0m \u001b[0mtn\u001b[0m\u001b[1;33m)\u001b[0m \u001b[1;33m/\u001b[0m \u001b[1;33m(\u001b[0m\u001b[0mtp\u001b[0m \u001b[1;33m+\u001b[0m \u001b[0mfp\u001b[0m \u001b[1;33m+\u001b[0m \u001b[0mtn\u001b[0m \u001b[1;33m+\u001b[0m \u001b[0mfn\u001b[0m\u001b[1;33m)\u001b[0m\u001b[1;33m\u001b[0m\u001b[1;33m\u001b[0m\u001b[0m\n",
      "\u001b[1;31mValueError\u001b[0m: too many values to unpack (expected 4)"
     ]
    }
   ],
   "source": [
    "from sklearn.metrics import confusion_matrix, classification_report\n",
    "\n",
    "y_true = y_test_label\n",
    "y_prediction = classifier.predict(X_dummies_test)\n",
    "confusion_matrix(y_true, y_prediction)\n",
    "tn, fp, fn, tp = confusion_matrix(y_true, y_prediction).ravel()\n",
    "# Utilizing our understanding of components in a confusion matrix, apply the formula for accuracy\n",
    "accuracy = (tp + tn) / (tp + fp + tn + fn)\n",
    "print(classification_report(y_true, y_prediction))"
   ]
  },
  {
   "cell_type": "code",
   "execution_count": null,
   "id": "09643d63",
   "metadata": {},
   "outputs": [],
   "source": []
  }
 ],
 "metadata": {
  "kernelspec": {
   "display_name": "Python 3",
   "language": "python",
   "name": "python3"
  },
  "language_info": {
   "codemirror_mode": {
    "name": "ipython",
    "version": 3
   },
   "file_extension": ".py",
   "mimetype": "text/x-python",
   "name": "python",
   "nbconvert_exporter": "python",
   "pygments_lexer": "ipython3",
   "version": "3.8.5"
  }
 },
 "nbformat": 4,
 "nbformat_minor": 5
}
