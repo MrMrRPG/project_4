{
 "cells": [
  {
   "cell_type": "code",
   "execution_count": 1,
   "id": "636bc203",
   "metadata": {},
   "outputs": [],
   "source": [
    "# Import the Pandas library\n",
    "import pandas as pd"
   ]
  },
  {
   "cell_type": "code",
   "execution_count": 2,
   "id": "0eb448b4",
   "metadata": {},
   "outputs": [],
   "source": [
    "# Create a reference the CSV file desired\n",
    "csv_path = \"Data_CSV/chess.csv\"\n",
    "\n",
    "# to read csv file named \"samplee\"\n",
    "b = pd.read_csv(csv_path)\n",
    "# a = a.set_index(\"Fideid\")\n",
    "# to save as html file\n",
    "# named as \"Cities\"\n",
    "b.to_html(\"chess.html\")\n",
    " \n",
    "# assign it to a\n",
    "# variable (string)\n",
    "chess_html_file = b.to_html()"
   ]
  },
  {
   "cell_type": "code",
   "execution_count": 3,
   "id": "640439d2",
   "metadata": {},
   "outputs": [],
   "source": [
    "# Create a reference the CSV file desired\n",
    "csv_path = \"Data_CSV/games.csv\"\n",
    "\n",
    "# to read csv file named \"samplee\"\n",
    "c = pd.read_csv(csv_path)\n",
    "# a = a.set_index(\"Fideid\")\n",
    "# to save as html file\n",
    "# named as \"Cities\"\n",
    "c.to_html(\"games.html\")\n",
    " \n",
    "# assign it to a\n",
    "# variable (string)\n",
    "games_html_file = c.to_html()"
   ]
  },
  {
   "cell_type": "code",
   "execution_count": null,
   "id": "be8412f9",
   "metadata": {},
   "outputs": [],
   "source": []
  }
 ],
 "metadata": {
  "kernelspec": {
   "display_name": "Python 3",
   "language": "python",
   "name": "python3"
  },
  "language_info": {
   "codemirror_mode": {
    "name": "ipython",
    "version": 3
   },
   "file_extension": ".py",
   "mimetype": "text/x-python",
   "name": "python",
   "nbconvert_exporter": "python",
   "pygments_lexer": "ipython3",
   "version": "3.8.8"
  }
 },
 "nbformat": 4,
 "nbformat_minor": 5
}
